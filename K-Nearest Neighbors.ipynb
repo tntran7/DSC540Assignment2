{
 "cells": [
  {
   "cell_type": "code",
   "execution_count": 1,
   "id": "5a9bfa3e",
   "metadata": {},
   "outputs": [],
   "source": [
    "import numpy as np # linear algebra\n",
    "import pandas as pd # data processing, CSV file I/O (e.g. pd.read_csv)\n",
    "import seaborn as sns\n",
    "import matplotlib.pyplot as plt\n",
    "from sklearn.model_selection import train_test_split \n",
    "from sklearn.metrics import classification_report, confusion_matrix, accuracy_score\n",
    "from sklearn.neighbors import KNeighborsClassifier\n",
    "from sklearn.model_selection import cross_val_score\n",
    "from sklearn import datasets"
   ]
  },
  {
   "cell_type": "code",
   "execution_count": 2,
   "id": "c2c51d01",
   "metadata": {},
   "outputs": [],
   "source": [
    "data_tr = pd.read_csv('train.csv')\n",
    "data_test = pd.read_csv('test.csv')"
   ]
  },
  {
   "cell_type": "code",
   "execution_count": 4,
   "id": "b7380d77",
   "metadata": {},
   "outputs": [
    {
     "name": "stdout",
     "output_type": "stream",
     "text": [
      "X_train (31500, 784)\n"
     ]
    }
   ],
   "source": [
    "#trainData ~ X_train ,testData~ X_test, trainLabel~ y_train\n",
    "#testLabel~ y_test, valData ~ X_val, valLabels~ y_val\n",
    "X = data_tr.drop('label', axis=1).values\n",
    "y = data_tr['label'].values\n",
    "X_train, X_test, y_train, y_test = train_test_split(X, y, test_size = 0.25, random_state = 42)\n",
    "print('X_train', X_train.shape)"
   ]
  },
  {
   "cell_type": "code",
   "execution_count": 20,
   "id": "4aba92bf",
   "metadata": {},
   "outputs": [
    {
     "data": {
      "image/png": "[encoded data removed]",
      "text/plain": [
       "<Figure size 432x288 with 1 Axes>"
      ]
     },
     "metadata": {
      "needs_background": "light"
     },
     "output_type": "display_data"
    }
   ],
   "source": [
    "image = X[4550].reshape((28,28))\n",
    "plt.figure()\n",
    "plt.imshow(image, cmap='gray')\n",
    "plt.show()"
   ]
  },
  {
   "cell_type": "code",
   "execution_count": 24,
   "id": "08eae6e6",
   "metadata": {},
   "outputs": [
    {
     "data": {
      "text/plain": [
       "10.392304845413264"
      ]
     },
     "execution_count": 24,
     "metadata": {},
     "output_type": "execute_result"
    }
   ],
   "source": [
    "def euclidean (p1, p2):\n",
    "    return np.sqrt(np.sum((p1 - p2)**2))\n",
    "euclidean(np.array([1,2,3]), np.array([7,8,9]))"
   ]
  },
  {
   "cell_type": "code",
   "execution_count": 10,
   "id": "d8025b58",
   "metadata": {},
   "outputs": [],
   "source": [
    "knn = KNeighborsClassifier(n_neighbors = 1)\n",
    "knn.fit(X_train, y_train)\n",
    "knn_pred = knn.predict(X_test)"
   ]
  },
  {
   "cell_type": "code",
   "execution_count": 11,
   "id": "8b1dd230",
   "metadata": {},
   "outputs": [
    {
     "name": "stdout",
     "output_type": "stream",
     "text": [
      "[[1020    0    0    0    0    0    2    0    1    2]\n",
      " [   0 1144    0    0    1    0    0    1    0    0]\n",
      " [  10    9 1021    6    4    2    2   15    1    2]\n",
      " [   0    2    4 1101    0   18    0    8   11    7]\n",
      " [   2    5    0    0  987    0    5    3    0   22]\n",
      " [   1    0    0   11    1  862   10    1    6    6]\n",
      " [   7    2    0    1    0    3  995    0    2    0]\n",
      " [   0   16    4    1    2    0    0 1095    0   17]\n",
      " [   1    9    6   14    1   14    3    2  947    8]\n",
      " [   5    2    0   10   15    0    1   16    0  985]]\n"
     ]
    }
   ],
   "source": [
    "print(confusion_matrix(y_test, knn_pred))"
   ]
  },
  {
   "cell_type": "code",
   "execution_count": 12,
   "id": "ce2db8cd",
   "metadata": {},
   "outputs": [
    {
     "name": "stdout",
     "output_type": "stream",
     "text": [
      "              precision    recall  f1-score   support\n",
      "\n",
      "           0       0.98      1.00      0.99      1025\n",
      "           1       0.96      1.00      0.98      1146\n",
      "           2       0.99      0.95      0.97      1072\n",
      "           3       0.96      0.96      0.96      1151\n",
      "           4       0.98      0.96      0.97      1024\n",
      "           5       0.96      0.96      0.96       898\n",
      "           6       0.98      0.99      0.98      1010\n",
      "           7       0.96      0.96      0.96      1135\n",
      "           8       0.98      0.94      0.96      1005\n",
      "           9       0.94      0.95      0.95      1034\n",
      "\n",
      "    accuracy                           0.97     10500\n",
      "   macro avg       0.97      0.97      0.97     10500\n",
      "weighted avg       0.97      0.97      0.97     10500\n",
      "\n"
     ]
    }
   ],
   "source": [
    "print(classification_report(y_test, knn_pred))"
   ]
  },
  {
   "cell_type": "code",
   "execution_count": 13,
   "id": "e998c061",
   "metadata": {},
   "outputs": [
    {
     "name": "stdout",
     "output_type": "stream",
     "text": [
      "0.9673333333333334\n"
     ]
    }
   ],
   "source": [
    "print(accuracy_score(y_test, knn_pred))"
   ]
  },
  {
   "cell_type": "code",
   "execution_count": 16,
   "id": "6871795c",
   "metadata": {},
   "outputs": [
    {
     "name": "stdout",
     "output_type": "stream",
     "text": [
      "[0.9674047619047619]\n",
      "[0.9674047619047619, 0.9683095238095237]\n",
      "[0.9674047619047619, 0.9683095238095237, 0.9673809523809525]\n",
      "[0.9674047619047619, 0.9683095238095237, 0.9673809523809525, 0.9664523809523811]\n",
      "[0.9674047619047619, 0.9683095238095237, 0.9673809523809525, 0.9664523809523811, 0.9651190476190477]\n"
     ]
    }
   ],
   "source": [
    "k_val = range(1, 10, 2)\n",
    "k_score = []\n",
    "for k in k_val:\n",
    "    model = KNeighborsClassifier(n_neighbors = k)\n",
    "    score = cross_val_score(model, X, y, cv = 10, scoring ='accuracy')\n",
    "    k_score.append(score.mean())\n",
    "    print(k_score)"
   ]
  },
  {
   "cell_type": "code",
   "execution_count": 17,
   "id": "578984f7",
   "metadata": {},
   "outputs": [
    {
     "name": "stdout",
     "output_type": "stream",
     "text": [
      "              precision    recall  f1-score   support\n",
      "\n",
      "           0       0.97      1.00      0.98      1025\n",
      "           1       0.92      1.00      0.96      1146\n",
      "           2       0.99      0.94      0.96      1072\n",
      "           3       0.95      0.96      0.96      1151\n",
      "           4       0.98      0.96      0.97      1024\n",
      "           5       0.96      0.95      0.95       898\n",
      "           6       0.97      0.98      0.98      1010\n",
      "           7       0.96      0.96      0.96      1135\n",
      "           8       0.99      0.92      0.95      1005\n",
      "           9       0.94      0.95      0.94      1034\n",
      "\n",
      "    accuracy                           0.96     10500\n",
      "   macro avg       0.96      0.96      0.96     10500\n",
      "weighted avg       0.96      0.96      0.96     10500\n",
      "\n"
     ]
    }
   ],
   "source": [
    "model = KNeighborsClassifier(n_neighbors= k)\n",
    "model.fit(X_train, y_train)\n",
    "preds = model.predict(X_test)\n",
    "print(classification_report(y_test, preds))"
   ]
  }
 ],
 "metadata": {
  "kernelspec": {
   "display_name": "Python 3",
   "language": "python",
   "name": "python3"
  },
  "language_info": {
   "codemirror_mode": {
    "name": "ipython",
    "version": 3
   },
   "file_extension": ".py",
   "mimetype": "text/x-python",
   "name": "python",
   "nbconvert_exporter": "python",
   "pygments_lexer": "ipython3",
   "version": "3.8.8"
  }
 },
 "nbformat": 4,
 "nbformat_minor": 5
}
